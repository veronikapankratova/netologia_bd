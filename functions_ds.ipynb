{
 "cells": [
  {
   "cell_type": "code",
   "execution_count": 9,
   "metadata": {},
   "outputs": [],
   "source": [
    "# Вы работаете секретарем и вам постоянно приходят различные документы. Вы должны быть очень внимательны, чтобы не потерять ни один документ. Каталог документов хранится в следующем виде:\n",
    "\n",
    "# In [4]:\n",
    "# documents = [\n",
    "#     {'type': 'passport', 'number': '2207 876234', 'name': 'Василий Гупкин'},\n",
    "#     {'type': 'invoice', 'number': '11-2', 'name': 'Геннадий Покемонов'},\n",
    "#     {'type': 'insurance', 'number': '10006', 'name': 'Аристарх Павлов'}\n",
    "# ]\n",
    "# Перечень полок, на которых находятся документы хранится в следующем виде:\n",
    "\n",
    "# In [5]:\n",
    "# directories = {\n",
    "#     '1': ['2207 876234', '11-2'],\n",
    "#     '2': ['10006'],\n",
    "#     '3': []\n",
    "# }\n",
    "# Необходимо реализовать пользовательские команды (внимание! это не название функций, которые должны быть выразительными\n",
    "# , а команды, которые вводит пользователь, чтобы получить необходимый результат):\n",
    "\n",
    "# p – people – команда, которая спросит номер документа и выведет имя человека, которому он принадлежит;\n",
    "# s – shelf – команда, которая спросит номер документа и выведет номер полки, на которой он находится\n",
    "# Правильно обработайте ситуации, когда пользователь будет вводить несуществующий документ.\n",
    "# l – list – команда, которая выведет список всех документов в формате\n",
    "# passport \"2207 876234\" \"Василий Гупкин\"\n",
    "# as – add shelf – команда, которая спросит номер новой полки и добавит ее в перечень.\n",
    "# Предусмотрите случай, когда пользователь добавляет полку, которая уже существует.\n",
    "# d – delete – команда, которая спросит номер документа и удалит его из каталога и из перечня полок.\n",
    "# Предусмотрите сценарий, когда пользователь вводит несуществующий документ;\n",
    "# m – move – команда, которая спросит номер документа и целевую полку и переместит его с текущей полки на целевую. \n",
    "# Корректно обработайте кейсы, когда пользователь пытается переместить несуществующий документ или переместить документ на несуществующую полку;\n",
    "# a – add – команда, которая добавит новый документ в каталог и в перечень полок, \n",
    "# спросив его номер, тип, имя владельца и номер полки, на котором он будет храниться. \n",
    "# Корректно обработайте ситуацию, когда пользователь будет пытаться добавить документ на несуществующую полку.\n"
   ]
  },
  {
   "cell_type": "code",
   "execution_count": 18,
   "metadata": {},
   "outputs": [
    {
     "name": "stdout",
     "output_type": "stream",
     "text": [
      "Введите номер документа: 11-2\n",
      "Геннадий Покемонов\n"
     ]
    }
   ],
   "source": [
    "# p – people – команда, которая спросит номер документа и выведет имя человека, которому он принадлежит;\n",
    "\n",
    "documents = [\n",
    "    {'type': 'passport', 'number': '2207 876234', 'name': 'Василий Гупкин'},\n",
    "    {'type': 'invoice', 'number': '11-2', 'name': 'Геннадий Покемонов'},\n",
    "    {'type': 'insurance', 'number': '10006', 'name': 'Аристарх Павлов'}\n",
    "]\n",
    "directories = {\n",
    "    '1': ['2207 876234', '11-2'],\n",
    "    '2': ['10006'],\n",
    "    '3': []\n",
    "}\n",
    "def find_people(documents):\n",
    "    i=0\n",
    "    key_number=0\n",
    "    doc_number =input('Введите номер документа: ')\n",
    "    for doc in documents:\n",
    "         for key in doc.values():\n",
    "#             print(key)\n",
    "            key_number +=1\n",
    "    for doc in documents:\n",
    "         for key in doc.values():\n",
    "#             print(key_number)\n",
    "            if key == doc_number:\n",
    "#                     print(key)\n",
    "                    print(doc['name'])\n",
    "                    break\n",
    "                \n",
    "            else:\n",
    "                    i = i + 1\n",
    "#                     print(i)\n",
    "                    if i == key_number:\n",
    "                         print ('ничего не найдено')\n",
    "#                     \n",
    "\n",
    "find_people (documents)\n",
    "\n",
    "\n"
   ]
  },
  {
   "cell_type": "code",
   "execution_count": 11,
   "metadata": {},
   "outputs": [
    {
     "name": "stdout",
     "output_type": "stream",
     "text": [
      "Введите номер документа: 11\n",
      "документ не найден\n"
     ]
    }
   ],
   "source": [
    "# s – shelf – команда, которая спросит номер документа и выведет номер полки, на которой он находится\n",
    "documents = [\n",
    "    {'type': 'passport', 'number': '2207 876234', 'name': 'Василий Гупкин'},\n",
    "    {'type': 'invoice', 'number': '11-2', 'name': 'Геннадий Покемонов'},\n",
    "    {'type': 'insurance', 'number': '10006', 'name': 'Аристарх Павлов'}\n",
    "]\n",
    "directories = {\n",
    "    '1': ['2207 876234', '11-2'],\n",
    "    '2': ['10006'],\n",
    "    '3': []\n",
    "}\n",
    "\n",
    "# shelf_num = input('Введите номер полки: ')\n",
    "# doc_type = input('Введите тип документа: ')\n",
    "# doc_name = input('Введите имя владельца: ')\n",
    "def find_shelf(directories):\n",
    "    doc_number = input('Введите номер документа: ')        \n",
    "    for doc in directories.items():\n",
    "# #         for doc\n",
    "        if doc_number in doc[1]:\n",
    "            print ('номер полки:', doc[0])\n",
    "        else:\n",
    "            print ('документ не найден')\n",
    "            break\n",
    "\n",
    "find_shelf(directories)       "
   ]
  },
  {
   "cell_type": "code",
   "execution_count": 12,
   "metadata": {},
   "outputs": [
    {
     "name": "stdout",
     "output_type": "stream",
     "text": [
      "passport, 2207 876234, Василий Гупкин\n",
      "invoice, 11-2, Геннадий Покемонов\n",
      "insurance, 10006, Аристарх Павлов\n"
     ]
    }
   ],
   "source": [
    "# l – list – команда, которая выведет список всех документов в формате\n",
    "# passport \"2207 876234\" \"Василий Гупкин\"\n",
    "\n",
    "documents = [\n",
    "    {'type': 'passport', 'number': '2207 876234', 'name': 'Василий Гупкин'},\n",
    "    {'type': 'invoice', 'number': '11-2', 'name': 'Геннадий Покемонов'},\n",
    "    {'type': 'insurance', 'number': '10006', 'name': 'Аристарх Павлов'}\n",
    "]\n",
    "directories = {\n",
    "    '1': ['2207 876234', '11-2'],\n",
    "    '2': ['10006'],\n",
    "    '3': []\n",
    "}\n",
    "def list_(documents):\n",
    "    i=0\n",
    "    key_number=0\n",
    "#     doc_number =input('Введите номер нового документа: ')\n",
    "#     for doc in documents:\n",
    "#          for key in doc.values():\n",
    "# #             print(key)\n",
    "#             key_number +=1\n",
    "    for doc in documents:\n",
    "         for key in doc.keys():\n",
    "#             print(doc['type'],'\"', doc['number'],'\"', '\"',doc['name'],'\"')\n",
    "           print(f\"{doc['type']}, {doc['number']}, {doc['name']}\")\n",
    "#             print (t)\n",
    "           break\n",
    "#     \n",
    "list_(documents)"
   ]
  },
  {
   "cell_type": "code",
   "execution_count": 13,
   "metadata": {},
   "outputs": [
    {
     "name": "stdout",
     "output_type": "stream",
     "text": [
      "Введите номер документа: 11\n",
      "такого документа нет\n",
      "документ удален\n",
      "{'1': ['2207 876234', '11-2'], '2': ['10006'], '3': []}\n",
      "[{'type': 'passport', 'number': '2207 876234', 'name': 'Василий Гупкин'}, {'type': 'invoice', 'number': '11-2', 'name': 'Геннадий Покемонов'}, {'type': 'insurance', 'number': '10006', 'name': 'Аристарх Павлов'}]\n"
     ]
    }
   ],
   "source": [
    "# d – delete – команда, которая спросит номер документа и удалит его из каталога и из перечня полок.\n",
    "# Предусмотрите сценарий, когда пользователь вводит несуществующий документ;\n",
    "from pprint import pprint\n",
    "\n",
    "documents = [\n",
    "    {'type': 'passport', 'number': '2207 876234', 'name': 'Василий Гупкин'},\n",
    "    {'type': 'invoice', 'number': '11-2', 'name': 'Геннадий Покемонов'},\n",
    "    {'type': 'insurance', 'number': '10006', 'name': 'Аристарх Павлов'}\n",
    "]\n",
    "directories = {\n",
    "    '1': ['2207 876234', '11-2'],\n",
    "    '2': ['10006'],\n",
    "    '3': []\n",
    "}\n",
    "def dell_doc(direct_dict, documents):\n",
    "    i = 0\n",
    "    j = 0\n",
    "    doc_number = input('Введите номер документа: ')   \n",
    "    for doc in direct_dict.items():\n",
    "#         print (doc)\n",
    "        for document in doc[1]:\n",
    "            if document == doc_number:\n",
    "                doc[1].remove(document)\n",
    "            else:\n",
    "                i = i + 1\n",
    "        if i == len(direct_dict):\n",
    "            print('такого документа нет')\n",
    "            break\n",
    "#     print(direct_dict)\n",
    "    for doc in documents:\n",
    "        if doc['number'] == doc_number: \n",
    "           del(doc['type'])\n",
    "           del(doc['number'])\n",
    "           del(doc['name'])\n",
    "    \n",
    "#     print(doc)\n",
    "\n",
    "    return print('документ удален', direct_dict, documents, sep='\\n')\n",
    "        \n",
    "\n",
    "    \n",
    "dell_doc(directories, documents)"
   ]
  },
  {
   "cell_type": "code",
   "execution_count": 14,
   "metadata": {},
   "outputs": [
    {
     "name": "stdout",
     "output_type": "stream",
     "text": [
      "Введите номер полки: 11\n",
      "добавлена папка 11\n",
      "{'1': ['2207 876234', '11-2'], '2': ['10006'], '3': [], '11': ' '}\n"
     ]
    },
    {
     "ename": "RuntimeError",
     "evalue": "dictionary changed size during iteration",
     "output_type": "error",
     "traceback": [
      "\u001b[1;31m---------------------------------------------------------------------------\u001b[0m",
      "\u001b[1;31mRuntimeError\u001b[0m                              Traceback (most recent call last)",
      "\u001b[1;32m<ipython-input-14-f61a92235e24>\u001b[0m in \u001b[0;36m<module>\u001b[1;34m\u001b[0m\n\u001b[0;32m     29\u001b[0m     \u001b[1;32mreturn\u001b[0m \u001b[0mprint\u001b[0m \u001b[1;33m(\u001b[0m\u001b[0mdirectories\u001b[0m\u001b[1;33m)\u001b[0m\u001b[1;33m\u001b[0m\u001b[1;33m\u001b[0m\u001b[0m\n\u001b[0;32m     30\u001b[0m \u001b[1;33m\u001b[0m\u001b[0m\n\u001b[1;32m---> 31\u001b[1;33m \u001b[0madd_dir\u001b[0m\u001b[1;33m(\u001b[0m\u001b[0mdirectories\u001b[0m\u001b[1;33m)\u001b[0m\u001b[1;33m\u001b[0m\u001b[1;33m\u001b[0m\u001b[0m\n\u001b[0m",
      "\u001b[1;32m<ipython-input-14-f61a92235e24>\u001b[0m in \u001b[0;36madd_dir\u001b[1;34m(directories)\u001b[0m\n\u001b[0;32m     18\u001b[0m \u001b[1;32mdef\u001b[0m \u001b[0madd_dir\u001b[0m\u001b[1;33m(\u001b[0m\u001b[0mdirectories\u001b[0m\u001b[1;33m)\u001b[0m\u001b[1;33m:\u001b[0m\u001b[1;33m\u001b[0m\u001b[1;33m\u001b[0m\u001b[0m\n\u001b[0;32m     19\u001b[0m     \u001b[0mshelf_num\u001b[0m \u001b[1;33m=\u001b[0m \u001b[0minput\u001b[0m\u001b[1;33m(\u001b[0m\u001b[1;34m'Введите номер полки: '\u001b[0m\u001b[1;33m)\u001b[0m\u001b[1;33m\u001b[0m\u001b[1;33m\u001b[0m\u001b[0m\n\u001b[1;32m---> 20\u001b[1;33m     \u001b[1;32mfor\u001b[0m \u001b[0mdoc\u001b[0m \u001b[1;32min\u001b[0m \u001b[0mdirectories\u001b[0m\u001b[1;33m.\u001b[0m\u001b[0mitems\u001b[0m\u001b[1;33m(\u001b[0m\u001b[1;33m)\u001b[0m\u001b[1;33m:\u001b[0m\u001b[1;33m\u001b[0m\u001b[1;33m\u001b[0m\u001b[0m\n\u001b[0m\u001b[0;32m     21\u001b[0m \u001b[1;31m#             print (doc)\u001b[0m\u001b[1;33m\u001b[0m\u001b[1;33m\u001b[0m\u001b[1;33m\u001b[0m\u001b[0m\n\u001b[0;32m     22\u001b[0m             \u001b[1;32mif\u001b[0m \u001b[0mdoc\u001b[0m\u001b[1;33m[\u001b[0m\u001b[1;36m0\u001b[0m\u001b[1;33m]\u001b[0m \u001b[1;33m==\u001b[0m \u001b[0mshelf_num\u001b[0m\u001b[1;33m:\u001b[0m\u001b[1;33m\u001b[0m\u001b[1;33m\u001b[0m\u001b[0m\n",
      "\u001b[1;31mRuntimeError\u001b[0m: dictionary changed size during iteration"
     ]
    }
   ],
   "source": [
    "# as – add shelf – команда, которая спросит номер новой полки и добавит ее в перечень.\n",
    "# Предусмотрите случай, когда пользователь добавляет полку, которая уже существует.\n",
    "\n",
    "documents = [\n",
    "    {'type': 'passport', 'number': '2207 876234', 'name': 'Василий Гупкин'},\n",
    "    {'type': 'invoice', 'number': '11-2', 'name': 'Геннадий Покемонов'},\n",
    "    {'type': 'insurance', 'number': '10006', 'name': 'Аристарх Павлов'}\n",
    "]\n",
    "directories = {\n",
    "    '1': ['2207 876234', '11-2'],\n",
    "    '2': ['10006'],\n",
    "    '3': []\n",
    "}\n",
    "# doc_number = input('Введите номер нового документа: ')   \n",
    "\n",
    "# doc_type = input('Введите тип документа: ')\n",
    "# doc_name = input('Введите имя владельца: ')\n",
    "def add_dir(directories):\n",
    "    shelf_num = input('Введите номер полки: ')\n",
    "    for doc in directories.items():\n",
    "#             print (doc)\n",
    "            if doc[0] == shelf_num:\n",
    "                print ('такая папка уже существует')\n",
    "                break\n",
    "            else:\n",
    "                directories [shelf_num] = ' '\n",
    "                print ('добавлена папка', shelf_num)\n",
    "                print (directories)\n",
    "    return print (directories)\n",
    "\n",
    "add_dir(directories)\n"
   ]
  },
  {
   "cell_type": "code",
   "execution_count": 15,
   "metadata": {},
   "outputs": [
    {
     "name": "stdout",
     "output_type": "stream",
     "text": [
      "Введите номер нового документа: 11\n",
      "Введите номер полки: 11\n",
      "Введите тип документа: 111\n",
      "Введите имя владельца: 11\n",
      "('1', ['2207 876234', '11-2'])\n",
      "('2', ['10006'])\n",
      "('3', [])\n",
      "{'1': ['2207 876234', '11-2'], '2': ['10006'], '3': []}\n",
      "[{'type': 'passport', 'number': '2207 876234', 'name': 'Василий Гупкин'}, {'type': 'invoice', 'number': '11-2', 'name': 'Геннадий Покемонов'}, {'type': 'insurance', 'number': '10006', 'name': 'Аристарх Павлов'}, {'type': '111', 'number': '11', 'name': '11'}]\n"
     ]
    }
   ],
   "source": [
    "## a – add – команда, которая добавит новый документ в каталог и в перечень полок, спросив его номер, тип, имя владельца и номер полки, на котором он будет храниться.\n",
    "documents = [\n",
    "    {'type': 'passport', 'number': '2207 876234', 'name': 'Василий Гупкин'},\n",
    "    {'type': 'invoice', 'number': '11-2', 'name': 'Геннадий Покемонов'},\n",
    "    {'type': 'insurance', 'number': '10006', 'name': 'Аристарх Павлов'}\n",
    "]\n",
    "directories = {\n",
    "    '1': ['2207 876234', '11-2'],\n",
    "    '2': ['10006'],\n",
    "    '3': []\n",
    "}\n",
    "doc_number = input('Введите номер нового документа: ')   \n",
    "shelf_num = input('Введите номер полки: ')\n",
    "doc_type = input('Введите тип документа: ')\n",
    "doc_name = input('Введите имя владельца: ')\n",
    "def add_doc(direct_dict):\n",
    "    for doc in directories.items():\n",
    "        print (doc)\n",
    "        if doc[0] == shelf_num:\n",
    "               doc[1].append (doc_number)         \n",
    "    print(direct_dict)\n",
    "add_doc(directories)\n",
    "def add_docs(document_list):  \n",
    "    documents.append({'type': doc_type, 'number': doc_number, 'name': doc_name})\n",
    "    print(document_list)\n",
    "add_docs(documents)"
   ]
  },
  {
   "cell_type": "code",
   "execution_count": 16,
   "metadata": {},
   "outputs": [
    {
     "name": "stdout",
     "output_type": "stream",
     "text": [
      "Введите номер документа: 11-2\n",
      "Введите номер целевой полки: 2\n",
      "{'1': ['2207 876234'], '2': ['10006', '11-2'], '3': []}\n"
     ]
    }
   ],
   "source": [
    "# m – move – команда, которая спросит номер документа и целевую полку и переместит его с текущей полки на целевую\n",
    "directories = {\n",
    "    '1': ['2207 876234', '11-2'],\n",
    "    '2': ['10006'],\n",
    "    '3': []\n",
    "}\n",
    "def move_doc(direct_dict):\n",
    "    i = 0\n",
    "    doc_number = input('Введите номер документа: ')   \n",
    "    shelf_num = input('Введите номер целевой полки: ')\n",
    "    for doc in direct_dict.items():\n",
    "        for document in doc[1]:\n",
    "            if document == doc_number:\n",
    "                doc[1].remove(document)\n",
    "            else:\n",
    "                i = i + 1\n",
    "        if i == len(direct_dict):\n",
    "            print('такого документа нет')\n",
    "            break\n",
    "        if int(shelf_num) > len(direct_dict):\n",
    "            print('нет такой полки')\n",
    "            break\n",
    " \n",
    "        if doc[0] == shelf_num:\n",
    "            doc[1].append(doc_number)\n",
    "            break\n",
    "    return print(direct_dict)\n",
    "        \n",
    "move_doc(directories)"
   ]
  },
  {
   "cell_type": "code",
   "execution_count": 24,
   "metadata": {},
   "outputs": [
    {
     "name": "stdout",
     "output_type": "stream",
     "text": [
      "введите команду: l\n",
      "passport, 2207 876234, Василий Гупкин\n",
      "insurance, 10006, Аристарх Павлов\n"
     ]
    }
   ],
   "source": [
    "cmd_list = { 'p':find_people, 's':find_shelf, 'l':list_ ,'d':dell_doc, 'as':add_dir, 'm':move_doc, 'a':add_docs}\n",
    "command = input('введите команду: ')\n",
    "\n",
    "# for commands in cmd_list:\n",
    "if command not in cmd_list:\n",
    "        print('Unknown command')\n",
    "#     break\n",
    "elif command == 'd':\n",
    "        cmd_list[command](directories, documents)\n",
    "#     break\n",
    "else: \n",
    "        cmd_list[command](documents)\n",
    "#     break\n",
    "    \n",
    "#     'as':add_shelf_cmd, 'd':delete_cmd, 'm':move_cmd, 'a':add_cmd"
   ]
  },
  {
   "cell_type": "code",
   "execution_count": null,
   "metadata": {},
   "outputs": [],
   "source": []
  }
 ],
 "metadata": {
  "kernelspec": {
   "display_name": "Python 3",
   "language": "python",
   "name": "python3"
  },
  "language_info": {
   "codemirror_mode": {
    "name": "ipython",
    "version": 3
   },
   "file_extension": ".py",
   "mimetype": "text/x-python",
   "name": "python",
   "nbconvert_exporter": "python",
   "pygments_lexer": "ipython3",
   "version": "3.7.6"
  }
 },
 "nbformat": 4,
 "nbformat_minor": 4
}
