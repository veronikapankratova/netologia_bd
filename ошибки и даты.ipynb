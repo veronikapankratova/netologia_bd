{
 "cells": [
  {
   "cell_type": "code",
   "execution_count": 2,
   "metadata": {},
   "outputs": [],
   "source": [
    "from datetime import datetime\n",
    "from datetime import timedelta\n",
    "\n"
   ]
  },
  {
   "cell_type": "code",
   "execution_count": 39,
   "metadata": {},
   "outputs": [
    {
     "name": "stdout",
     "output_type": "stream",
     "text": [
      "введите начальную дату 2019-01-09\n",
      "введите конечную дату дату 2019-02-11\n",
      "33 days, 0:00:00\n"
     ]
    }
   ],
   "source": [
    "# Задание 1\n",
    "# Напишите функцию date_range, которая возвращает список дней между датами start_date и end_date. \n",
    "# Даты должны вводиться в формате YYYY-MM-DD.\n",
    "def date_range ():\n",
    "    start_date = input('введите начальную дату ')\n",
    "    end_date = input('введите конечную дату дату ')\n",
    "    d1 = datetime.strptime(start_date, '%Y-%m-%d')\n",
    "    d2 = datetime.strptime(end_date, '%Y-%m-%d')\n",
    "    print (d2 - d1)\n",
    "date_range()"
   ]
  },
  {
   "cell_type": "code",
   "execution_count": 52,
   "metadata": {},
   "outputs": [
    {
     "name": "stdout",
     "output_type": "stream",
     "text": [
      "введите начальную дату 2009-01-01\n",
      "введите конечную дату дату 2008-01-01\n",
      "[]\n"
     ]
    }
   ],
   "source": [
    "# Задание 2\n",
    "# Дополните функцию из первого задания проверкой на корректность дат.\n",
    "# В случае неверного формата или если start_date > end_date должен возвращаться пустой список.\n",
    "\n",
    "def date_range_new ():\n",
    "    start_date = input('введите начальную дату ')\n",
    "    end_date = input('введите конечную дату дату ')\n",
    "    d1 = datetime.strptime(start_date, '%Y-%m-%d')\n",
    "    d2 = datetime.strptime(end_date, '%Y-%m-%d')\n",
    "    date = d2-d1\n",
    "    if end_date < start_date:\n",
    "        print ([])\n",
    "    else:\n",
    "        print (date)\n",
    "date_range_new()"
   ]
  },
  {
   "cell_type": "code",
   "execution_count": null,
   "metadata": {},
   "outputs": [],
   "source": [
    "# Дан поток дат в формате YYYY-MM-DD, в которых встречаются некорректные значения:\n",
    "# stream = [‘2018-04-02’, ‘2018-02-29’, ‘2018-19-02’]\n",
    "# Напишите функцию, которая проверяет эти даты на корректность. \n",
    "# Т. е. для каждой даты возвращает True (дата корректна) или False (некорректная дата)."
   ]
  },
  {
   "cell_type": "code",
   "execution_count": 68,
   "metadata": {},
   "outputs": [
    {
     "name": "stdout",
     "output_type": "stream",
     "text": [
      "2018-04-02 True\n",
      "None\n",
      "2018-02-29 False\n"
     ]
    },
    {
     "name": "stderr",
     "output_type": "stream",
     "text": [
      "Traceback (most recent call last):\n",
      "  File \"<ipython-input-68-765e74268297>\", line 6, in check_dates\n",
      "    datetime.strptime(element, '%Y-%m-%d')\n",
      "  File \"C:\\Users\\User\\anaconda3\\lib\\_strptime.py\", line 577, in _strptime_datetime\n",
      "    tt, fraction, gmtoff_fraction = _strptime(data_string, format)\n",
      "  File \"C:\\Users\\User\\anaconda3\\lib\\_strptime.py\", line 544, in _strptime\n",
      "    datetime_date(year, 1, 1).toordinal() + 1\n",
      "ValueError: day is out of range for month\n"
     ]
    }
   ],
   "source": [
    "import traceback\n",
    "stream = ['2018-04-02','2018-02-29','2018-19-02']\n",
    "def check_dates (stream):\n",
    "    try:\n",
    "        for element in stream:\n",
    "            datetime.strptime(element, '%Y-%m-%d')\n",
    "            print (element, True)\n",
    "    except Exception:\n",
    "        print(traceback.print_exc())\n",
    "        print (element, False)\n",
    "# stream_dt= \n",
    "check_dates (stream)"
   ]
  },
  {
   "cell_type": "code",
   "execution_count": null,
   "metadata": {},
   "outputs": [],
   "source": []
  }
 ],
 "metadata": {
  "kernelspec": {
   "display_name": "Python 3",
   "language": "python",
   "name": "python3"
  },
  "language_info": {
   "codemirror_mode": {
    "name": "ipython",
    "version": 3
   },
   "file_extension": ".py",
   "mimetype": "text/x-python",
   "name": "python",
   "nbconvert_exporter": "python",
   "pygments_lexer": "ipython3",
   "version": "3.7.6"
  }
 },
 "nbformat": 4,
 "nbformat_minor": 4
}
