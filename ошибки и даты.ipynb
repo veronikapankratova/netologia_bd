{
 "cells": [
  {
   "cell_type": "code",
   "execution_count": 1,
   "metadata": {},
   "outputs": [],
   "source": [
    "\n",
    "from datetime import datetime\n",
    "from datetime import timedelta\n"
   ]
  },
  {
   "cell_type": "code",
   "execution_count": 20,
   "metadata": {},
   "outputs": [
    {
     "name": "stdout",
     "output_type": "stream",
     "text": [
      "введите начальную дату 2019-01-02\n",
      "введите конечную дату дату 2019-03-04\n",
      "2019-01-02 00:00:00 2019-03-04 00:00:00\n",
      "61 days, 0:00:00\n",
      "2019-01-02\n",
      "2019-01-03\n",
      "2019-01-04\n",
      "2019-01-05\n",
      "2019-01-06\n",
      "2019-01-07\n",
      "2019-01-08\n",
      "2019-01-09\n",
      "2019-01-10\n",
      "2019-01-11\n",
      "2019-01-12\n",
      "2019-01-13\n",
      "2019-01-14\n",
      "2019-01-15\n",
      "2019-01-16\n",
      "2019-01-17\n",
      "2019-01-18\n",
      "2019-01-19\n",
      "2019-01-20\n",
      "2019-01-21\n",
      "2019-01-22\n",
      "2019-01-23\n",
      "2019-01-24\n",
      "2019-01-25\n",
      "2019-01-26\n",
      "2019-01-27\n",
      "2019-01-28\n",
      "2019-01-29\n",
      "2019-01-30\n",
      "2019-01-31\n",
      "2019-02-01\n",
      "2019-02-02\n",
      "2019-02-03\n",
      "2019-02-04\n",
      "2019-02-05\n",
      "2019-02-06\n",
      "2019-02-07\n",
      "2019-02-08\n",
      "2019-02-09\n",
      "2019-02-10\n",
      "2019-02-11\n",
      "2019-02-12\n",
      "2019-02-13\n",
      "2019-02-14\n",
      "2019-02-15\n",
      "2019-02-16\n",
      "2019-02-17\n",
      "2019-02-18\n",
      "2019-02-19\n",
      "2019-02-20\n",
      "2019-02-21\n",
      "2019-02-22\n",
      "2019-02-23\n",
      "2019-02-24\n",
      "2019-02-25\n",
      "2019-02-26\n",
      "2019-02-27\n",
      "2019-02-28\n",
      "2019-03-01\n",
      "2019-03-02\n",
      "2019-03-03\n",
      "2019-03-04\n"
     ]
    }
   ],
   "source": [
    "# Задание 1\n",
    "# Напишите функцию date_range, которая возвращает список дней между датами start_date и end_date. \n",
    "# Даты должны вводиться в формате YYYY-MM-DD.\n",
    "def date_range ():\n",
    "    start_date = input('введите начальную дату ')\n",
    "    end_date = input('введите конечную дату дату ')\n",
    "    d1 = datetime.strptime(start_date, '%Y-%m-%d')\n",
    "    d2 = datetime.strptime(end_date, '%Y-%m-%d')\n",
    "    print (d1, d2)\n",
    "    print (d2-d1)\n",
    "    current_dt = d1\n",
    "    while current_dt <= d2:\n",
    "        print(current_dt.strftime('%Y-%m-%d'))\n",
    "    \n",
    "        current_dt += timedelta(days=1)   \n",
    "\n",
    "date_range()"
   ]
  },
  {
   "cell_type": "code",
   "execution_count": 21,
   "metadata": {},
   "outputs": [
    {
     "name": "stdout",
     "output_type": "stream",
     "text": [
      "введите начальную дату 2019-04-04\n",
      "введите конечную дату дату 2019-02-02\n",
      "[]\n"
     ]
    }
   ],
   "source": [
    "# Дополните функцию из первого задания проверкой на корректность дат.\n",
    "# В случае неверного формата или если start_date > end_date должен возвращаться пустой список.\n",
    "\n",
    "def date_range_new ():\n",
    "    start_date = input('введите начальную дату ')\n",
    "    end_date = input('введите конечную дату дату ')\n",
    "    d1 = datetime.strptime(start_date, '%Y-%m-%d')\n",
    "    d2 = datetime.strptime(end_date, '%Y-%m-%d')\n",
    "    date = d2-d1\n",
    "    if end_date < start_date:\n",
    "        print ([])\n",
    "    else:\n",
    "        current_dt = d1\n",
    "        while current_dt <= d2:\n",
    "            print(current_dt.strftime('%Y-%m-%d'))\n",
    "    \n",
    "            current_dt += timedelta(days=1)   \n",
    "#         print (date)\n",
    "    \n",
    "date_range_new()"
   ]
  },
  {
   "cell_type": "code",
   "execution_count": 6,
   "metadata": {},
   "outputs": [],
   "source": [
    "# Дан поток дат в формате YYYY-MM-DD, в которых встречаются некорректные значения:\n",
    "# stream = [‘2018-04-02’, ‘2018-02-29’, ‘2018-19-02’]\n",
    "# Напишите функцию, которая проверяет эти даты на корректность. \n",
    "# Т. е. для каждой даты возвращает True (дата корректна) или False (некорректная дата)."
   ]
  },
  {
   "cell_type": "code",
   "execution_count": 7,
   "metadata": {},
   "outputs": [
    {
     "name": "stdout",
     "output_type": "stream",
     "text": [
      "2018-04-02 True\n",
      "None\n",
      "2018-02-29 False\n"
     ]
    },
    {
     "name": "stderr",
     "output_type": "stream",
     "text": [
      "Traceback (most recent call last):\n",
      "  File \"<ipython-input-7-765e74268297>\", line 6, in check_dates\n",
      "    datetime.strptime(element, '%Y-%m-%d')\n",
      "  File \"C:\\ProgramData\\Anaconda3\\lib\\_strptime.py\", line 577, in _strptime_datetime\n",
      "    tt, fraction, gmtoff_fraction = _strptime(data_string, format)\n",
      "  File \"C:\\ProgramData\\Anaconda3\\lib\\_strptime.py\", line 544, in _strptime\n",
      "    datetime_date(year, 1, 1).toordinal() + 1\n",
      "ValueError: day is out of range for month\n"
     ]
    }
   ],
   "source": [
    "import traceback\n",
    "stream = ['2018-04-02','2018-02-29','2018-19-02']\n",
    "def check_dates (stream):\n",
    "    try:\n",
    "        for element in stream:\n",
    "            datetime.strptime(element, '%Y-%m-%d')\n",
    "            print (element, True)\n",
    "    except Exception:\n",
    "        print(traceback.print_exc())\n",
    "        print (element, False)\n",
    "# stream_dt= \n",
    "check_dates (stream)"
   ]
  },
  {
   "cell_type": "code",
   "execution_count": null,
   "metadata": {},
   "outputs": [],
   "source": []
  }
 ],
 "metadata": {
  "kernelspec": {
   "display_name": "Python 3",
   "language": "python",
   "name": "python3"
  },
  "language_info": {
   "codemirror_mode": {
    "name": "ipython",
    "version": 3
   },
   "file_extension": ".py",
   "mimetype": "text/x-python",
   "name": "python",
   "nbconvert_exporter": "python",
   "pygments_lexer": "ipython3",
   "version": "3.7.6"
  }
 },
 "nbformat": 4,
 "nbformat_minor": 4
}
